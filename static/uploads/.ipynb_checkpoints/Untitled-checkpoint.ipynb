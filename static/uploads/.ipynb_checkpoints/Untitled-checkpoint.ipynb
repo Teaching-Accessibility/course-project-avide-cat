{
 "cells": [
  {
   "cell_type": "code",
   "execution_count": null,
   "id": "silent-finish",
   "metadata": {},
   "outputs": [],
   "source": [
    "from moveipy.editor import *\n"
   ]
  },
  {
   "cell_type": "code",
   "execution_count": null,
   "id": "tight-snapshot",
   "metadata": {},
   "outputs": [],
   "source": [
    "clip = VideoFileClip('nick-vis.mp4')\n",
    "clip = clip.cutout(1, 10)\n",
    "clip.write_videofile('test.mp4')"
   ]
  },
  {
   "cell_type": "code",
   "execution_count": null,
   "id": "miniature-idaho",
   "metadata": {},
   "outputs": [],
   "source": []
  }
 ],
 "metadata": {
  "kernelspec": {
   "display_name": "Python 3 (ipykernel)",
   "language": "python",
   "name": "python3"
  },
  "language_info": {
   "codemirror_mode": {
    "name": "ipython",
    "version": 3
   },
   "file_extension": ".py",
   "mimetype": "text/x-python",
   "name": "python",
   "nbconvert_exporter": "python",
   "pygments_lexer": "ipython3",
   "version": "3.8.3"
  }
 },
 "nbformat": 4,
 "nbformat_minor": 5
}
